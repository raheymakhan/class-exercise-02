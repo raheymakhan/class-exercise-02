{
 "cells": [
  {
   "cell_type": "markdown",
   "metadata": {
    "colab_type": "text",
    "id": "view-in-github"
   },
   "source": [
    "<a href=\"https://colab.research.google.com/github/unt-iialab/INFO5731_Spring2020/blob/master/In_class_exercise/In_class_exercise_02.ipynb\" target=\"_parent\"><img src=\"https://colab.research.google.com/assets/colab-badge.svg\" alt=\"Open In Colab\"/></a>"
   ]
  },
  {
   "cell_type": "markdown",
   "metadata": {
    "colab_type": "text",
    "id": "oo5bsEh2eeWi"
   },
   "source": [
    "# **The second In-class-exercise (9/9/2020, 20 points in total)**\n"
   ]
  },
  {
   "cell_type": "markdown",
   "metadata": {
    "colab_type": "text",
    "id": "2sPQ58dIeqgp"
   },
   "source": [
    "(1) Write a Python program to find the duplicate elements in a given array of integers. Return -1 If there are no such elements. (4 points)"
   ]
  },
  {
   "cell_type": "code",
   "execution_count": 31,
   "metadata": {
    "colab": {},
    "colab_type": "code",
    "id": "mnrvKMFTeoJR"
   },
   "outputs": [
    {
     "name": "stdout",
     "output_type": "stream",
     "text": [
      "1\n",
      "2\n",
      "3\n"
     ]
    }
   ],
   "source": [
    "# write your answer here\n",
    "import numpy as np\n",
    "a = np.array([1,2,3,4,5,1,2,3])\n",
    "\n",
    "def duplicates(x):\n",
    "    for i in range(len(x)):\n",
    "        for j in range(i+1, len(x)):\n",
    "            if x[i] == x[j]:\n",
    "                print (x[j])    \n",
    "            \n",
    "duplicates(a)       "
   ]
  },
  {
   "cell_type": "markdown",
   "metadata": {
    "colab_type": "text",
    "id": "YYrH6n6IhZoQ"
   },
   "source": [
    "(2) Write a Python program to select all the Sundays of a specified year. (4 points)\n",
    "\n"
   ]
  },
  {
   "cell_type": "code",
   "execution_count": 29,
   "metadata": {
    "colab": {},
    "colab_type": "code",
    "id": "OSfPLd23eLpX"
   },
   "outputs": [
    {
     "name": "stdout",
     "output_type": "stream",
     "text": [
      "2020-01-05\n",
      "2020-01-12\n",
      "2020-01-19\n",
      "2020-01-26\n",
      "2020-02-02\n",
      "2020-02-09\n",
      "2020-02-16\n",
      "2020-02-23\n",
      "2020-03-01\n",
      "2020-03-08\n",
      "2020-03-15\n",
      "2020-03-22\n",
      "2020-03-29\n",
      "2020-04-05\n",
      "2020-04-12\n",
      "2020-04-19\n",
      "2020-04-26\n",
      "2020-05-03\n",
      "2020-05-10\n",
      "2020-05-17\n",
      "2020-05-24\n",
      "2020-05-31\n",
      "2020-06-07\n",
      "2020-06-14\n",
      "2020-06-21\n",
      "2020-06-28\n",
      "2020-07-05\n",
      "2020-07-12\n",
      "2020-07-19\n",
      "2020-07-26\n",
      "2020-08-02\n",
      "2020-08-09\n",
      "2020-08-16\n",
      "2020-08-23\n",
      "2020-08-30\n",
      "2020-09-06\n",
      "2020-09-13\n",
      "2020-09-20\n",
      "2020-09-27\n",
      "2020-10-04\n",
      "2020-10-11\n",
      "2020-10-18\n",
      "2020-10-25\n",
      "2020-11-01\n",
      "2020-11-08\n",
      "2020-11-15\n",
      "2020-11-22\n",
      "2020-11-29\n",
      "2020-12-06\n",
      "2020-12-13\n",
      "2020-12-20\n",
      "2020-12-27\n"
     ]
    }
   ],
   "source": [
    "# write your answer here\n",
    "\n",
    "from datetime import date, timedelta\n",
    "\n",
    "def sundays(year):\n",
    "    january_01 = date(year, 1, 1) \n",
    "    first_sunday = january_01 + timedelta(days = 6 - january_01.weekday())  \n",
    "    while first_sunday.year == year:\n",
    "        print (first_sunday)\n",
    "        first_sunday = first_sunday + timedelta(days = 7)\n",
    "          \n",
    "sundays(2010)"
   ]
  },
  {
   "cell_type": "markdown",
   "metadata": {
    "colab_type": "text",
    "id": "UIpziZ6Sjie-"
   },
   "source": [
    "(3) Python files reading and writing. Download the “[exercise_02_data _collection.zip](https://github.com/unt-iialab/INFO5731_FALL2020/blob/master/In_class_exercise/exercise_02_data_collection.zip)” to your local and un-zip it.\n",
    "\n",
    "*   Write a program to read all the txt files and save the sentences in all the files into one csv file with two columns, the first column is sentence id (txt file name+sentence line number), the second column is the sentence text content. (4 points)\n",
    "*   Remove all the punctuations from the sentences, save the processed sentences into a new column in the same csv file. (4 points)\n",
    "*   Ask the user to enter a word, return all the sentences that include this word, three kinds of information should be returned: sentence id, sentence text content, the count that user input word appear in the sentence. (4 points)\n",
    "\n"
   ]
  },
  {
   "cell_type": "code",
   "execution_count": 17,
   "metadata": {
    "colab": {},
    "colab_type": "code",
    "id": "f3CUsrWOj1Xy"
   },
   "outputs": [
    {
     "name": "stderr",
     "output_type": "stream",
     "text": [
      "b'Skipping line 2: expected 1 fields, saw 2\\nSkipping line 3: expected 1 fields, saw 2\\nSkipping line 4: expected 1 fields, saw 2\\nSkipping line 5: expected 1 fields, saw 2\\nSkipping line 6: expected 1 fields, saw 2\\nSkipping line 7: expected 1 fields, saw 2\\nSkipping line 8: expected 1 fields, saw 2\\nSkipping line 9: expected 1 fields, saw 2\\n'\n",
      "b'Skipping line 2: expected 2 fields, saw 3\\n'\n",
      "b'Skipping line 2: expected 1 fields, saw 2\\nSkipping line 4: expected 1 fields, saw 2\\nSkipping line 5: expected 1 fields, saw 2\\nSkipping line 6: expected 1 fields, saw 2\\n'\n",
      "b'Skipping line 3: expected 2 fields, saw 3\\n'\n",
      "b'Skipping line 4: expected 1 fields, saw 2\\n'\n",
      "b'Skipping line 2: expected 1 fields, saw 2\\nSkipping line 3: expected 1 fields, saw 2\\n'\n",
      "b'Skipping line 3: expected 1 fields, saw 2\\nSkipping line 4: expected 1 fields, saw 2\\nSkipping line 5: expected 1 fields, saw 2\\nSkipping line 7: expected 1 fields, saw 2\\nSkipping line 8: expected 1 fields, saw 2\\nSkipping line 10: expected 1 fields, saw 2\\n'\n",
      "b'Skipping line 2: expected 1 fields, saw 2\\nSkipping line 3: expected 1 fields, saw 2\\nSkipping line 4: expected 1 fields, saw 2\\nSkipping line 6: expected 1 fields, saw 2\\nSkipping line 7: expected 1 fields, saw 2\\nSkipping line 8: expected 1 fields, saw 2\\n'\n",
      "b'Skipping line 2: expected 1 fields, saw 2\\nSkipping line 3: expected 1 fields, saw 2\\nSkipping line 4: expected 1 fields, saw 2\\nSkipping line 5: expected 1 fields, saw 2\\nSkipping line 6: expected 1 fields, saw 2\\nSkipping line 7: expected 1 fields, saw 2\\n'\n",
      "b'Skipping line 2: expected 1 fields, saw 2\\nSkipping line 3: expected 1 fields, saw 2\\n'\n"
     ]
    }
   ],
   "source": [
    "# write your answer here\n",
    "\n",
    "############################################################################################################################\n",
    "import os\n",
    "import pandas as pd\n",
    "\n",
    "def read_text_files():\n",
    "    dirpath = r'C:\\Users\\Raheyma Arshad\\Desktop\\exercise_02_data_collection\\\\'\n",
    "    output = r'C:\\Users\\Raheyma Arshad\\Desktop\\Output_CSV.csv'\n",
    "    csvout_lst = []\n",
    "    files = [os.path.join(dirpath, fname) for fname in os.listdir(dirpath)]\n",
    "\n",
    "    for filename in files:\n",
    "        data = pd.read_csv(filename, sep='.', index_col=0, header=None, error_bad_lines=False)\n",
    "        data['txt file name'] = os.path.basename(filename)\n",
    "        data['sentence line number'] = range(1, len(data['txt file name'])+1)\n",
    "        data['sentence id'] = data['txt file name'].astype(str) + data['sentence line number'].astype(str)\n",
    "        data = data.drop(['txt file name', 'sentence line number'], axis = 1) \n",
    "        data = data.dropna(axis=1)\n",
    "        csvout_lst.append(data)\n",
    "\n",
    "    pd.concat(csvout_lst).to_csv(output)\n",
    "\n",
    "read_text_files()   \n",
    "\n",
    "output_file = r'C:\\Users\\Raheyma Arshad\\Desktop\\Output_CSV.csv'\n",
    "############################################################################################################################\n",
    "\n",
    "def removing_punctuation():\n",
    "    output_file = r'C:\\Users\\Raheyma Arshad\\Desktop\\Output_CSV.csv'\n",
    "    data = pd.read_csv(output_file)\n",
    "    data[\"Without Punctuation\"] = data['0'].str.replace('[^\\w\\s]','')\n",
    "    data.to_csv(r'C:\\Users\\Raheyma Arshad\\Desktop\\Output_CSV.csv', index=False)\n",
    "    "
   ]
  },
  {
   "cell_type": "markdown",
   "metadata": {
    "colab_type": "text",
    "id": "-12cqmJEpZOh"
   },
   "source": [
    "(4) Install packages nltk, numpy, scipy, pandas, and sklearn on Google Colab. Write a program to test whether they are installed successfully. (3 points for extra)"
   ]
  },
  {
   "cell_type": "code",
   "execution_count": 40,
   "metadata": {
    "colab": {},
    "colab_type": "code",
    "id": "f1pn1Zl2qK77"
   },
   "outputs": [
    {
     "name": "stdout",
     "output_type": "stream",
     "text": [
      "'nltk' already in sys.modules\n",
      "'numpy' already in sys.modules\n",
      "'scipy' already in sys.modules\n",
      "'pandas' already in sys.modules\n",
      "'sklearn' already in sys.modules\n"
     ]
    }
   ],
   "source": [
    "# write your answer here\n",
    "\n",
    "def install_package():\n",
    "    import sys\n",
    "    name1 = 'nltk' \n",
    "    if name1 in sys.modules:\n",
    "        print(f\"{name1!r} already in sys.modules\")\n",
    "    else:\n",
    "        print(f\"can't find the {name1!r} module\")\n",
    "        \n",
    "    name2 = 'numpy' \n",
    "    if name2 in sys.modules:\n",
    "        print(f\"{name2!r} already in sys.modules\")\n",
    "    else:\n",
    "        print(f\"can't find the {name2!r} module\")\n",
    "        \n",
    "    name3 = 'scipy' \n",
    "    if name3 in sys.modules:\n",
    "        print(f\"{name3!r} already in sys.modules\")\n",
    "    else:\n",
    "        print(f\"can't find the {name3!r} module\")\n",
    "        \n",
    "    name4 = 'pandas' \n",
    "    if name4 in sys.modules:\n",
    "        print(f\"{name4!r} already in sys.modules\")\n",
    "    else:\n",
    "        print(f\"can't find the {name4!r} module\")\n",
    "    \n",
    "    name5 = 'sklearn' \n",
    "    if name5 in sys.modules:\n",
    "        print(f\"{name5!r} already in sys.modules\")\n",
    "    else:\n",
    "        print(f\"can't find the {name5!r} module\")\n",
    "\n",
    "install_package()"
   ]
  }
 ],
 "metadata": {
  "colab": {
   "authorship_tag": "ABX9TyO+tpE40PgxRU/8NgGfGYzw",
   "collapsed_sections": [],
   "include_colab_link": true,
   "name": "In_class_exercise_02.ipynb",
   "provenance": []
  },
  "kernelspec": {
   "display_name": "Python 3",
   "language": "python",
   "name": "python3"
  },
  "language_info": {
   "codemirror_mode": {
    "name": "ipython",
    "version": 3
   },
   "file_extension": ".py",
   "mimetype": "text/x-python",
   "name": "python",
   "nbconvert_exporter": "python",
   "pygments_lexer": "ipython3",
   "version": "3.8.3"
  }
 },
 "nbformat": 4,
 "nbformat_minor": 1
}
